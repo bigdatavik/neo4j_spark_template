{
 "cells": [
  {
   "cell_type": "markdown",
   "metadata": {},
   "source": [
    "# Importing the European Roads dataset\n",
    "\n",
    "In this notebook we're going to import the European Roads dataset into Neo4j. Let's first import the Neo4j Python driver:"
   ]
  },
  {
   "cell_type": "code",
   "execution_count": 1,
   "metadata": {},
   "outputs": [
    {
     "name": "stdout",
     "output_type": "stream",
     "text": [
      "Requirement already satisfied: neo4j in /opt/anaconda3/envs/neo4j/lib/python3.7/site-packages (4.2.1)\n",
      "Requirement already satisfied: sklearn in /opt/anaconda3/envs/neo4j/lib/python3.7/site-packages (0.0)\n",
      "Collecting altair\n",
      "  Downloading altair-4.1.0-py3-none-any.whl (727 kB)\n",
      "\u001b[K     |████████████████████████████████| 727 kB 58 kB/s eta 0:00:013\n",
      "\u001b[?25hRequirement already satisfied: pytz in /opt/anaconda3/envs/neo4j/lib/python3.7/site-packages (from neo4j) (2021.1)\n",
      "Requirement already satisfied: scikit-learn in /opt/anaconda3/envs/neo4j/lib/python3.7/site-packages (from sklearn) (0.24.1)\n",
      "Requirement already satisfied: entrypoints in /opt/anaconda3/envs/neo4j/lib/python3.7/site-packages (from altair) (0.3)\n",
      "Requirement already satisfied: jinja2 in /opt/anaconda3/envs/neo4j/lib/python3.7/site-packages (from altair) (2.11.2)\n",
      "Collecting toolz\n",
      "  Downloading toolz-0.11.1-py3-none-any.whl (55 kB)\n",
      "\u001b[K     |████████████████████████████████| 55 kB 164 kB/s eta 0:00:01\n",
      "\u001b[?25hRequirement already satisfied: jsonschema in /opt/anaconda3/envs/neo4j/lib/python3.7/site-packages (from altair) (3.2.0)\n",
      "Requirement already satisfied: pandas>=0.18 in /opt/anaconda3/envs/neo4j/lib/python3.7/site-packages (from altair) (1.1.0)\n",
      "Requirement already satisfied: numpy in /opt/anaconda3/envs/neo4j/lib/python3.7/site-packages (from altair) (1.19.1)\n",
      "Requirement already satisfied: scipy>=0.19.1 in /opt/anaconda3/envs/neo4j/lib/python3.7/site-packages (from scikit-learn->sklearn) (1.5.4)\n",
      "Requirement already satisfied: threadpoolctl>=2.0.0 in /opt/anaconda3/envs/neo4j/lib/python3.7/site-packages (from scikit-learn->sklearn) (2.1.0)\n",
      "Requirement already satisfied: joblib>=0.11 in /opt/anaconda3/envs/neo4j/lib/python3.7/site-packages (from scikit-learn->sklearn) (0.17.0)\n",
      "Requirement already satisfied: MarkupSafe>=0.23 in /opt/anaconda3/envs/neo4j/lib/python3.7/site-packages (from jinja2->altair) (1.1.1)\n",
      "Requirement already satisfied: setuptools in /opt/anaconda3/envs/neo4j/lib/python3.7/site-packages (from jsonschema->altair) (49.2.0.post20200714)\n",
      "Requirement already satisfied: importlib-metadata; python_version < \"3.8\" in /opt/anaconda3/envs/neo4j/lib/python3.7/site-packages (from jsonschema->altair) (1.7.0)\n",
      "Requirement already satisfied: six>=1.11.0 in /opt/anaconda3/envs/neo4j/lib/python3.7/site-packages (from jsonschema->altair) (1.15.0)\n",
      "Requirement already satisfied: attrs>=17.4.0 in /opt/anaconda3/envs/neo4j/lib/python3.7/site-packages (from jsonschema->altair) (19.3.0)\n",
      "Requirement already satisfied: pyrsistent>=0.14.0 in /opt/anaconda3/envs/neo4j/lib/python3.7/site-packages (from jsonschema->altair) (0.16.0)\n",
      "Requirement already satisfied: python-dateutil>=2.7.3 in /opt/anaconda3/envs/neo4j/lib/python3.7/site-packages (from pandas>=0.18->altair) (2.8.1)\n",
      "Requirement already satisfied: zipp>=0.5 in /opt/anaconda3/envs/neo4j/lib/python3.7/site-packages (from importlib-metadata; python_version < \"3.8\"->jsonschema->altair) (3.1.0)\n",
      "Installing collected packages: toolz, altair\n",
      "Successfully installed altair-4.1.0 toolz-0.11.1\n",
      "Note: you may need to restart the kernel to use updated packages.\n"
     ]
    }
   ],
   "source": [
    "pip install neo4j sklearn altair"
   ]
  },
  {
   "cell_type": "code",
   "execution_count": 6,
   "metadata": {},
   "outputs": [],
   "source": [
    "from neo4j import GraphDatabase\n",
    "from neo4j.exceptions import ClientError\n",
    "import os"
   ]
  },
  {
   "cell_type": "markdown",
   "metadata": {},
   "source": [
    "Once we've done that we can initialise the Neo4j driver."
   ]
  },
  {
   "cell_type": "code",
   "execution_count": 12,
   "metadata": {},
   "outputs": [],
   "source": [
    "bolt_url = os.getenv(\"NEO4J_BOLT_URL\", \"bolt://localhost\")\n",
    "user = os.getenv(\"NEO4J_USER\", \"neo4j\")\n",
    "password = os.getenv(\"NEO4J_PASSWORD\", \"letmein\")\n",
    "#driver = GraphDatabase.driver(\"bolt://graph-embeddings-neo4j\", auth=(user, password))\n",
    "# driver = GraphDatabase.driver(\"bolt://localhost:7687\", auth=(\"neo4j\", \"letmein\")) \n",
    "driver = GraphDatabase.driver(bolt_url, auth=(user, password)) "
   ]
  },
  {
   "cell_type": "markdown",
   "metadata": {},
   "source": [
    "## Importing the dataset\n",
    "\n",
    "And now we can import the dataset:"
   ]
  },
  {
   "cell_type": "code",
   "execution_count": null,
   "metadata": {},
   "outputs": [],
   "source": [
    "# https://lassewesth.blogspot.com/2018/07/the-international-e-road-network-and.html"
   ]
  },
  {
   "cell_type": "code",
   "execution_count": 13,
   "metadata": {},
   "outputs": [
    {
     "data": {
      "text/plain": [
       "{'labels_added': 933, 'relationships_created': 2145, 'nodes_created': 933, 'properties_set': 4683}"
      ]
     },
     "metadata": {},
     "output_type": "display_data"
    }
   ],
   "source": [
    "with driver.session(database=\"neo4j\") as session:\n",
    "    try: \n",
    "        session.run(\"\"\"\n",
    "        CREATE CONSTRAINT ON (p:Place) ASSERT p.name IS UNIQUE;\n",
    "        \"\"\")\n",
    "    except ClientError as ex:\n",
    "        print(ex)\n",
    "        \n",
    "    result = session.run(\"\"\"\n",
    "    USING PERIODIC COMMIT 1000\n",
    "    LOAD CSV WITH HEADERS FROM \"https://github.com/neo4j-examples/graph-embeddings/raw/main/data/roads.csv\"\n",
    "    AS row\n",
    "\n",
    "    MERGE (origin:Place {name: row.origin_reference_place})\n",
    "    MERGE (originCountry:Country {code: row.origin_country_code})\n",
    "\n",
    "    MERGE (destination:Place {name: row.destination_reference_place})\n",
    "    MERGE (destinationCountry:Country {code: row.destination_country_code})\n",
    "    \n",
    "    MERGE (origin)-[:IN_COUNTRY]->(originCountry)\n",
    "    MERGE (destination)-[:IN_COUNTRY]->(destinationCountry)\n",
    "\n",
    "    MERGE (origin)-[eroad:EROAD {number: row.road_number}]->(destination)\n",
    "    SET eroad.distance = toInteger(row.distance), eroad.watercrossing = row.watercrossing;\n",
    "    \"\"\")\n",
    "    display(result.consume().counters)"
   ]
  },
  {
   "cell_type": "code",
   "execution_count": null,
   "metadata": {},
   "outputs": [],
   "source": []
  }
 ],
 "metadata": {
  "kernelspec": {
   "display_name": "Python 3",
   "language": "python",
   "name": "python3"
  },
  "language_info": {
   "codemirror_mode": {
    "name": "ipython",
    "version": 3
   },
   "file_extension": ".py",
   "mimetype": "text/x-python",
   "name": "python",
   "nbconvert_exporter": "python",
   "pygments_lexer": "ipython3",
   "version": "3.8.8"
  }
 },
 "nbformat": 4,
 "nbformat_minor": 4
}
