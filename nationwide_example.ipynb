{
 "cells": [
  {
   "cell_type": "code",
   "execution_count": 26,
   "metadata": {},
   "outputs": [
    {
     "name": "stdout",
     "output_type": "stream",
     "text": [
      "Requirement already satisfied: neo4j in /Library/Frameworks/Python.framework/Versions/3.9/lib/python3.9/site-packages (4.2.1)\n",
      "Requirement already satisfied: pytz in /Library/Frameworks/Python.framework/Versions/3.9/lib/python3.9/site-packages (from neo4j) (2020.5)\n",
      "\u001b[33mWARNING: You are using pip version 21.1.3; however, version 21.3 is available.\n",
      "You should consider upgrading via the '/Library/Frameworks/Python.framework/Versions/3.9/bin/python3.9 -m pip install --upgrade pip' command.\u001b[0m\n"
     ]
    }
   ],
   "source": [
    "!pip install neo4j"
   ]
  },
  {
   "cell_type": "code",
   "execution_count": 1,
   "metadata": {},
   "outputs": [],
   "source": [
    "\n",
    "import json\n",
    "from neo4j import GraphDatabase\n",
    "import pandas as pd\n",
    "\n",
    "\n",
    "import urllib\n",
    "import requests\n",
    "import os\n",
    "import sys\n",
    "\n",
    "global library_dict\n",
    "requests.packages.urllib3.disable_warnings()\n"
   ]
  },
  {
   "cell_type": "code",
   "execution_count": 2,
   "metadata": {},
   "outputs": [],
   "source": [
    "uri = \"neo4j://localhost:7687\"\n",
    "driver = GraphDatabase.driver(uri, auth=(\"neo4j\", \"Amish_2020_Tesla\"))\n"
   ]
  },
  {
   "cell_type": "code",
   "execution_count": 5,
   "metadata": {},
   "outputs": [],
   "source": [
    "## Create Indexes"
   ]
  },
  {
   "cell_type": "code",
   "execution_count": 40,
   "metadata": {},
   "outputs": [],
   "source": [
    "with driver.session(database=\"nationwide\") as session:\n",
    "    tx = session.begin_transaction()\n",
    "    tx.run(\n",
    "            \"CREATE INDEX rel_first_seen IF NOT EXISTS FOR ()-[r:IN_HOUSEHOLD]-() ON (r.firstSeen)\").consume()\n",
    "    tx.run(\n",
    "            \"CREATE INDEX rel_last_seen IF NOT EXISTS FOR ()-[r:IN_HOUSEHOLD]-() ON (r.lastSeen)\").consume()\n",
    "    tx.run(\n",
    "            \"CREATE INDEX rel_firstandlast_seen IF NOT EXISTS FOR ()-[r:IN_HOUSEHOLD]-() ON (r.firstSeen, r.lastSeen)\").consume()\n",
    "    tx.run(\n",
    "            \"CREATE INDEX customer_id_idx IF NOT EXISTS FOR (c:Customer) ON (c.customer_id)\").consume()\n",
    "    tx.run(\n",
    "            \"CREATE INDEX policy_id_idx IF NOT EXISTS FOR (p:Policy) ON (p.policy_id)\").consume()\n",
    "    tx.run(\n",
    "            \"CREATE INDEX policy_diaid_idx IF NOT EXISTS FOR (p:Policy) ON (p.diaid)\").consume()\n",
    "    tx.run(\n",
    "            \"CREATE INDEX rel_duration IF NOT EXISTS FOR ()-[r:IN_HOUSEHOLD]-() ON (r.lastSeenDuration)\").consume\n",
    "    tx.commit()"
   ]
  },
  {
   "cell_type": "code",
   "execution_count": 6,
   "metadata": {},
   "outputs": [],
   "source": [
    "def loadCustomerData():\n",
    "    with driver.session(database=\"nationwide\") as session:\n",
    "        tx = session.begin_transaction()\n",
    "        tx.run(\n",
    "            \"load csv with headers from 'file:/customer.csv' as row merge (c1:Customer {customer_id:row.customer_id}) ON CREATE SET c1.household_id = toInteger(row.household_id);\",\n",
    "            ).consume()\n",
    "        tx.commit()\n",
    "\n"
   ]
  },
  {
   "cell_type": "code",
   "execution_count": 7,
   "metadata": {},
   "outputs": [],
   "source": [
    "def loadPolicyData():\n",
    "    with driver.session(database=\"nationwide\") as session:\n",
    "        tx = session.begin_transaction()\n",
    "        tx.run(\n",
    "            \"load csv with headers from 'file:/policy.csv' as row merge (p:Policy {diaid:row.diaid}) ON CREATE SET p.st_code = row.st_code, p.policy_id = row.pol, p.household_id = toInteger(row.household_id), p.type = row.type;\",\n",
    "            ).consume()\n",
    "        tx.commit()\n",
    "\n"
   ]
  },
  {
   "cell_type": "code",
   "execution_count": 8,
   "metadata": {},
   "outputs": [],
   "source": [
    "def loadPolicyCustomerData():\n",
    "    with driver.session(database=\"nationwide\") as session:\n",
    "        tx = session.begin_transaction()\n",
    "        tx.run(\n",
    "            \"load csv with headers from 'file:/policy_customer.csv' as row MATCH (c:Customer {customer_id: row.customer_id}) MATCH (p:Policy {diaid:row.diaid}) CALL apoc.merge.relationship(c, row.reltype,{},{role_start:row.role_start, role_end:row.role_end},p,{}) yield rel return null;\",\n",
    "            ).consume()\n",
    "        tx.commit()\n",
    "\n"
   ]
  },
  {
   "cell_type": "code",
   "execution_count": 9,
   "metadata": {},
   "outputs": [],
   "source": [
    "## Clean entire Graph"
   ]
  },
  {
   "cell_type": "code",
   "execution_count": 10,
   "metadata": {},
   "outputs": [],
   "source": [
    "def cleanEntireGraph():\n",
    "    with driver.session(database=\"nationwide\") as session:\n",
    "        tx = session.begin_transaction()\n",
    "        tx.run(\n",
    "            \"match (n) detach delete n;\" ).consume()\n",
    "        tx.commit()"
   ]
  },
  {
   "cell_type": "code",
   "execution_count": 9,
   "metadata": {},
   "outputs": [],
   "source": [
    "## Clean Graph but leave Bloom Perspective"
   ]
  },
  {
   "cell_type": "code",
   "execution_count": 10,
   "metadata": {},
   "outputs": [],
   "source": [
    "def cleanEntireGraphLeaveBloom():\n",
    "    with driver.session(database=\"nationwide\") as session:\n",
    "        tx = session.begin_transaction()\n",
    "        tx.run(\n",
    "            \"match (n:Policy) detach delete n;\" ).consume()\n",
    "        tx.run(\n",
    "            \"match (n:Household) detach delete n;\" ).consume()\n",
    "        tx.run(\n",
    "            \"match (n:Customer) detach delete n;\" ).consume()\n",
    "        tx.run(\n",
    "            \"match (n:Inactive_Policy) detach delete n;\" ).consume()\n",
    "        tx.commit()"
   ]
  },
  {
   "cell_type": "code",
   "execution_count": 11,
   "metadata": {},
   "outputs": [],
   "source": [
    "###loadTestData()\n",
    "\n",
    "loadCustomerData()\n"
   ]
  },
  {
   "cell_type": "code",
   "execution_count": 12,
   "metadata": {},
   "outputs": [],
   "source": [
    "loadPolicyData()"
   ]
  },
  {
   "cell_type": "code",
   "execution_count": 13,
   "metadata": {},
   "outputs": [],
   "source": [
    "loadPolicyCustomerData()"
   ]
  },
  {
   "cell_type": "code",
   "execution_count": 14,
   "metadata": {},
   "outputs": [],
   "source": [
    "### Fix Labels"
   ]
  },
  {
   "cell_type": "code",
   "execution_count": 15,
   "metadata": {},
   "outputs": [],
   "source": [
    "def fixLabels():\n",
    "    with driver.session(database=\"nationwide\") as session:\n",
    "        tx = session.begin_transaction()\n",
    "        tx.run(\n",
    "            \"match (p:Policy) where p.type contains 'AA' set p:AA\",\n",
    "            ).consume()\n",
    "        tx.run(\n",
    "            \"match (p:Policy) where p.type contains 'BT' set p:BT\",\n",
    "            ).consume()\n",
    "        tx.run(\n",
    "            \"match (p:Policy) where p.type contains 'CA' set p:CA\",\n",
    "            ).consume()\n",
    "        tx.run(\n",
    "            \"match (p:Policy) where p.type contains 'CC' set p:CC\",\n",
    "            ).consume()\n",
    "        tx.run(\n",
    "            \"match (p:Policy) where p.type contains 'CO' set p:CO\",\n",
    "            ).consume()\n",
    "        tx.run(\n",
    "            \"match (p:Policy) where p.type contains 'DP' set p:DP\",\n",
    "            ).consume()\n",
    "        tx.run(\n",
    "            \"match (p:Policy) where p.type contains 'HO' set p:HO\",\n",
    "            ).consume()\n",
    "        tx.run(\n",
    "            \"match (p:Policy) where p.type contains 'LF' set p:LF\",\n",
    "            ).consume()\n",
    "        tx.run(\n",
    "            \"match (p:Policy) where p.type contains 'MC' set p:MC\",\n",
    "            ).consume()\n",
    "        tx.run(\n",
    "            \"match (p:Policy) where p.type contains 'MH' set p:MH\",\n",
    "            ).consume()\n",
    "        tx.run(\n",
    "            \"match (p:Policy) where p.type contains 'MT' set p:MT\",\n",
    "            ).consume()\n",
    "        tx.run(\n",
    "            \"match (p:Policy) where p.type contains 'RT' set p:RT\",\n",
    "            ).consume()\n",
    "        tx.run(\n",
    "            \"match (p:Policy) where p.type contains 'SL' set p:SL\",\n",
    "            ).consume()\n",
    "        tx.run(\n",
    "            \"match (p:Policy) where p.type contains 'SM' set p:SM\",\n",
    "            ).consume()\n",
    "        tx.run(\n",
    "            \"match (p:Policy) where p.type contains 'TT' set p:TT\",\n",
    "            ).consume()\n",
    "        tx.run(\n",
    "            \"match (p:Policy) where p.type contains 'UB' set p:UB\",\n",
    "            ).consume()\n",
    "        tx.commit()"
   ]
  },
  {
   "cell_type": "code",
   "execution_count": 16,
   "metadata": {},
   "outputs": [],
   "source": [
    "fixLabels();"
   ]
  },
  {
   "cell_type": "code",
   "execution_count": 7,
   "metadata": {},
   "outputs": [],
   "source": [
    "def createInMemoryGraph():\n",
    "    with driver.session(database=\"nationwide\") as session:\n",
    "        tx = session.begin_transaction()\n",
    "        tx.run(\n",
    "            \"CALL gds.graph.create('policy_customer',['Customer','Policy'],['PNI', 'SNI','OWNER','SPOUSE'], {nodeProperties: 'household_id'}) YIELD graphName, nodeProjection, nodeCount AS nodes, relationshipCount AS rels RETURN graphName, nodes, rels;\").consume()\n",
    "        tx.commit()"
   ]
  },
  {
   "cell_type": "code",
   "execution_count": 8,
   "metadata": {},
   "outputs": [],
   "source": [
    "def runWCC():\n",
    "    with driver.session(database=\"nationwide\") as session:\n",
    "        tx = session.begin_transaction()\n",
    "        tx.run(\n",
    "            \"CALL gds.wcc.write('policy_customer', { writeProperty: 'household_id', seedProperty:'household_id' }) YIELD nodePropertiesWritten, componentCount; \").consume()\n",
    "        tx.commit()"
   ]
  },
  {
   "cell_type": "code",
   "execution_count": 74,
   "metadata": {},
   "outputs": [],
   "source": [
    "def updateHouseholds():\n",
    "    with driver.session(database=\"nationwide\") as session: \n",
    "        tx = session.begin_transaction()\n",
    "        tx.run(\n",
    "            \"call apoc.periodic.iterate('MATCH (c:Customer) return id(c) as idc','match (c) where id(c) = idc with c MERGE (hh:Household {household_id:c.household_id}) ON CREATE SET hh.create_date = date() MERGE (c)-[r:IN_HOUSEHOLD]->(hh) ON CREATE SET  r.firstSeen=datetime(), r.lastSeen=datetime() ON MATCH SET r.lastSeen=datetime()',{batchSize:1000,parallel:false});\" ).consume()\n",
    "        tx.commit()"
   ]
  },
  {
   "cell_type": "code",
   "execution_count": 78,
   "metadata": {},
   "outputs": [],
   "source": [
    "def updateHouseholdsHistory():\n",
    "    with driver.session(database=\"nationwide\") as session: \n",
    "        tx = session.begin_transaction()\n",
    "        tx.run(\n",
    "            \"call apoc.periodic.iterate('MATCH (c:Customer) return id(c) as idc','match (c)-[r:IN_HOUSEHOLD]->(hh:Household) with max(r.lastSeen) as lastDate, c match (c:Customer)-[r:IN_HOUSEHOLD]->(hh:Household) with r where duration.inSeconds(r.lastSeen, lastDate).seconds > 0 with type(r) as oldType, \\\"PREVIOUS_\\\" + type(r) as newType, collect(r) as allR CALL apoc.refactor.rename.type(oldType, newType ,allR) yield committedOperations return committedOperations;',{batchSize:1000,parallel:false});\" ).consume()\n",
    "        tx.commit()"
   ]
  },
  {
   "cell_type": "code",
   "execution_count": 10,
   "metadata": {},
   "outputs": [],
   "source": [
    "def calculateSeenDurations():\n",
    "    with driver.session(database=\"nationwide\") as session: \n",
    "        tx = session.begin_transaction()\n",
    "        tx.run(\n",
    "            \"call apoc.periodic.iterate('MATCH (h:Household) return id(h) as idh','match (h) where id(h) = idh with h MATCH (h)<-[r:IN_HOUSEHOLD]-(c) SET r.lastSeenDuration = duration.inDays(r.firstSeen,r.lastSeen).days;',{batchSize:1000,parallel:false});\" ).consume()\n",
    "        tx.commit()"
   ]
  },
  {
   "cell_type": "code",
   "execution_count": 11,
   "metadata": {},
   "outputs": [],
   "source": [
    "## Drop In-Memory Graph"
   ]
  },
  {
   "cell_type": "code",
   "execution_count": 12,
   "metadata": {},
   "outputs": [],
   "source": [
    "def dropInMemoryGraph():\n",
    "    with driver.session(database=\"nationwide\") as session:\n",
    "        tx = session.begin_transaction()\n",
    "        tx.run(\"call gds.graph.drop('policy_customer');\").consume()\n",
    "        tx.commit()"
   ]
  },
  {
   "cell_type": "code",
   "execution_count": 45,
   "metadata": {},
   "outputs": [],
   "source": [
    "createInMemoryGraph();"
   ]
  },
  {
   "cell_type": "code",
   "execution_count": null,
   "metadata": {},
   "outputs": [],
   "source": [
    "## Run WCC"
   ]
  },
  {
   "cell_type": "code",
   "execution_count": 46,
   "metadata": {},
   "outputs": [],
   "source": [
    "runWCC();"
   ]
  },
  {
   "cell_type": "code",
   "execution_count": 47,
   "metadata": {},
   "outputs": [],
   "source": [
    "## Update Household Ids\n",
    "## Update the durations on the IN_HOUSEHOLD relationship"
   ]
  },
  {
   "cell_type": "code",
   "execution_count": 48,
   "metadata": {},
   "outputs": [],
   "source": [
    "updateHouseholds()\n",
    "calculateSeenDurations()"
   ]
  },
  {
   "cell_type": "code",
   "execution_count": 101,
   "metadata": {},
   "outputs": [],
   "source": [
    "## Drop In-Memory Graph"
   ]
  },
  {
   "cell_type": "code",
   "execution_count": 49,
   "metadata": {},
   "outputs": [],
   "source": [
    "dropInMemoryGraph();"
   ]
  },
  {
   "cell_type": "code",
   "execution_count": 49,
   "metadata": {},
   "outputs": [],
   "source": [
    "## Add a new customer to existing policy.\n",
    "## Use case 2\n",
    "## Customer -> neo4j910001516945\n",
    "## Policy -> diaid 196510063"
   ]
  },
  {
   "cell_type": "code",
   "execution_count": 141,
   "metadata": {},
   "outputs": [],
   "source": [
    "driver.close()"
   ]
  }
 ],
 "metadata": {
  "kernelspec": {
   "display_name": "Python 3 (ipykernel)",
   "language": "python",
   "name": "python3"
  },
  "language_info": {
   "codemirror_mode": {
    "name": "ipython",
    "version": 3
   },
   "file_extension": ".py",
   "mimetype": "text/x-python",
   "name": "python",
   "nbconvert_exporter": "python",
   "pygments_lexer": "ipython3",
   "version": "3.8.5"
  }
 },
 "nbformat": 4,
 "nbformat_minor": 2
}
